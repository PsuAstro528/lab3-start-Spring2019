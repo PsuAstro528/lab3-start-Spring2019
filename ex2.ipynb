{
 "cells": [
  {
   "cell_type": "markdown",
   "metadata": {},
   "source": [
    "# Astro 528, Lab 3, Exercise 2\n",
    "\n",
    "# Integrating Data from Multiple DataFrames\n",
    "\n",
    "In thie exercise, we'll integrate data from multiple different `DataFrames`. \n",
    "We'll pick one simple operation (removing rows) and compare the performance of two hand-rolled approaches to using a _join_ operation.\n",
    "\n",
    "First, let's make sure that all the necessary Julia packages are installed and import a few packages that we'll use.    "
   ]
  },
  {
   "cell_type": "code",
   "execution_count": null,
   "metadata": {
    "ExecuteTime": {
     "end_time": "2019-01-22T01:21:25.310000-05:00",
     "start_time": "2019-01-22T06:21:05.061Z"
    }
   },
   "outputs": [],
   "source": [
    "using Pkg\n",
    "Pkg.activate(\".\")\n",
    "Pkg.instantiate()\n",
    "using DataFrames, CSV, Feather"
   ]
  },
  {
   "cell_type": "markdown",
   "metadata": {},
   "source": [
    "### Read first file\n",
    "First, let's read in one of the data files that you created in Exercise 1."
   ]
  },
  {
   "cell_type": "code",
   "execution_count": 11,
   "metadata": {
    "ExecuteTime": {
     "end_time": "2019-01-22T01:51:56.037000-05:00",
     "start_time": "2019-01-22T06:51:55.965Z"
    }
   },
   "outputs": [
    {
     "data": {
      "text/html": [
       "<table class=\"data-frame\"><thead><tr><th></th><th>EB_injection</th><th>Expected_MES</th><th>Fit_Provenance</th><th>KIC_ID</th><th>Measured_MES</th><th>N_Transit</th><th>Offset_distance</th><th>Offset_from_source</th><th>Recovered</th><th>Sky_Group</th><th>TCE_ID</th><th>i_b</th><th>i_depth</th><th>i_dor</th><th>i_dur</th><th>i_epoch</th><th>i_period</th><th>i_ror</th><th>r_b</th><th>r_depth</th><th>r_dor</th><th>r_dur</th><th>r_epoch</th><th>r_period</th><th>r_ror</th></tr><tr><th></th><th>Int64</th><th>Float64</th><th>Int64</th><th>Int64</th><th>Float64</th><th>Float64</th><th>Float64</th><th>Int64</th><th>Int64</th><th>Int64</th><th>String⍰</th><th>Float64</th><th>Float64</th><th>Float64</th><th>Float64</th><th>Float64</th><th>Float64</th><th>Float64</th><th>Float64</th><th>Float64</th><th>Float64</th><th>Float64</th><th>Float64</th><th>Float64</th><th>Float64</th></tr></thead><tbody><p>146,294 rows × 25 columns</p><tr><th>1</th><td>0</td><td>2.4719</td><td>0</td><td>11445144</td><td>0.0</td><td>0.9808</td><td>0.0</td><td>0</td><td>0</td><td>8</td><td>missing</td><td>0.4141</td><td>1662.0</td><td>126.498</td><td>4.0203</td><td>107.489</td><td>70.0385</td><td>0.0306</td><td>0.0</td><td>0.0</td><td>0.0</td><td>0.0</td><td>0.0</td><td>0.0</td><td>0.0</td></tr><tr><th>2</th><td>0</td><td>0.9453</td><td>0</td><td>11496840</td><td>0.0</td><td>0.9808</td><td>0.0</td><td>0</td><td>0</td><td>8</td><td>missing</td><td>0.7649</td><td>1561.0</td><td>214.397</td><td>2.20705</td><td>103.975</td><td>87.8829</td><td>0.035</td><td>0.0</td><td>0.0</td><td>0.0</td><td>0.0</td><td>0.0</td><td>0.0</td><td>0.0</td></tr><tr><th>3</th><td>0</td><td>0.9322</td><td>0</td><td>11497236</td><td>0.0</td><td>0.9808</td><td>0.0</td><td>0</td><td>0</td><td>8</td><td>missing</td><td>0.81</td><td>1332.0</td><td>207.336</td><td>2.11234</td><td>84.4552</td><td>88.302</td><td>0.0334</td><td>0.0</td><td>0.0</td><td>0.0</td><td>0.0</td><td>0.0</td><td>0.0</td><td>0.0</td></tr><tr><th>4</th><td>0</td><td>1.1577</td><td>0</td><td>11548779</td><td>0.0</td><td>2.9425</td><td>0.0</td><td>0</td><td>0</td><td>8</td><td>missing</td><td>0.8915</td><td>686.0</td><td>138.661</td><td>1.00655</td><td>73.9562</td><td>35.4942</td><td>0.0247</td><td>0.0</td><td>0.0</td><td>0.0</td><td>0.0</td><td>0.0</td><td>0.0</td><td>0.0</td></tr><tr><th>5</th><td>0</td><td>3.9829</td><td>0</td><td>11600744</td><td>0.0</td><td>23.2943</td><td>0.0</td><td>0</td><td>0</td><td>8</td><td>missing</td><td>0.8738</td><td>372.0</td><td>110.768</td><td>1.77915</td><td>97.2396</td><td>48.8212</td><td>0.0183</td><td>0.0</td><td>0.0</td><td>0.0</td><td>0.0</td><td>0.0</td><td>0.0</td><td>0.0</td></tr><tr><th>6</th><td>0</td><td>8.7399</td><td>1</td><td>11601794</td><td>8.4883</td><td>15.1325</td><td>0.0</td><td>0</td><td>1</td><td>8</td><td>011601794-01</td><td>0.3761</td><td>838.0</td><td>133.934</td><td>3.88664</td><td>111.524</td><td>71.3789</td><td>0.0232</td><td>0.499</td><td>710.0</td><td>119.969</td><td>4.07025</td><td>182.886</td><td>71.3804</td><td>0.025</td></tr><tr><th>7</th><td>0</td><td>6.5484</td><td>0</td><td>11651634</td><td>0.0</td><td>93.9127</td><td>0.0</td><td>0</td><td>0</td><td>8</td><td>missing</td><td>0.3893</td><td>417.0</td><td>45.626</td><td>1.92268</td><td>65.4292</td><td>12.199</td><td>0.0144</td><td>0.0</td><td>0.0</td><td>0.0</td><td>0.0</td><td>0.0</td><td>0.0</td><td>0.0</td></tr><tr><th>8</th><td>0</td><td>6.7866</td><td>0</td><td>11652051</td><td>0.0</td><td>56.0697</td><td>0.0</td><td>0</td><td>0</td><td>8</td><td>missing</td><td>0.0016</td><td>481.0</td><td>56.138</td><td>2.76096</td><td>68.6416</td><td>19.905</td><td>0.0159</td><td>0.0</td><td>0.0</td><td>0.0</td><td>0.0</td><td>0.0</td><td>0.0</td><td>0.0</td></tr><tr><th>9</th><td>0</td><td>1.5078</td><td>0</td><td>11652704</td><td>0.0</td><td>8.8276</td><td>0.0</td><td>0</td><td>0</td><td>8</td><td>missing</td><td>0.3136</td><td>685.0</td><td>42.672</td><td>1.75635</td><td>71.4388</td><td>10.0683</td><td>0.0206</td><td>0.0</td><td>0.0</td><td>0.0</td><td>0.0</td><td>0.0</td><td>0.0</td><td>0.0</td></tr><tr><th>10</th><td>0</td><td>4.2792</td><td>0</td><td>11652732</td><td>0.0</td><td>6.2772</td><td>0.0</td><td>0</td><td>0</td><td>8</td><td>missing</td><td>0.4757</td><td>761.0</td><td>157.822</td><td>2.35004</td><td>118.021</td><td>53.4462</td><td>0.0232</td><td>0.0</td><td>0.0</td><td>0.0</td><td>0.0</td><td>0.0</td><td>0.0</td><td>0.0</td></tr><tr><th>11</th><td>0</td><td>2.8227</td><td>0</td><td>11653019</td><td>0.0</td><td>2.2068</td><td>0.0</td><td>0</td><td>0</td><td>8</td><td>missing</td><td>0.8637</td><td>1543.0</td><td>220.191</td><td>2.00733</td><td>92.7997</td><td>99.054</td><td>0.0369</td><td>0.0</td><td>0.0</td><td>0.0</td><td>0.0</td><td>0.0</td><td>0.0</td><td>0.0</td></tr><tr><th>12</th><td>0</td><td>2.4685</td><td>0</td><td>11653212</td><td>0.0</td><td>3.9234</td><td>0.0</td><td>0</td><td>0</td><td>8</td><td>missing</td><td>0.2079</td><td>1710.0</td><td>64.021</td><td>3.16547</td><td>80.7006</td><td>26.1243</td><td>0.0278</td><td>0.0</td><td>0.0</td><td>0.0</td><td>0.0</td><td>0.0</td><td>0.0</td><td>0.0</td></tr><tr><th>13</th><td>0</td><td>7.2307</td><td>0</td><td>11653259</td><td>0.0</td><td>48.0597</td><td>0.0</td><td>0</td><td>0</td><td>8</td><td>missing</td><td>0.1532</td><td>588.0</td><td>75.817</td><td>2.28139</td><td>79.394</td><td>22.4194</td><td>0.0182</td><td>0.0</td><td>0.0</td><td>0.0</td><td>0.0</td><td>0.0</td><td>0.0</td><td>0.0</td></tr><tr><th>14</th><td>0</td><td>7.5209</td><td>0</td><td>11701420</td><td>0.0</td><td>16.0199</td><td>0.0</td><td>0</td><td>0</td><td>8</td><td>missing</td><td>0.1238</td><td>521.0</td><td>129.346</td><td>4.0213</td><td>105.604</td><td>67.2402</td><td>0.0171</td><td>0.0</td><td>0.0</td><td>0.0</td><td>0.0</td><td>0.0</td><td>0.0</td><td>0.0</td></tr><tr><th>15</th><td>0</td><td>3.6943</td><td>0</td><td>11701589</td><td>0.0</td><td>5.1493</td><td>0.0</td><td>0</td><td>0</td><td>8</td><td>missing</td><td>0.9267</td><td>1611.0</td><td>194.46</td><td>1.90521</td><td>84.9286</td><td>99.582</td><td>0.0398</td><td>0.0</td><td>0.0</td><td>0.0</td><td>0.0</td><td>0.0</td><td>0.0</td><td>0.0</td></tr><tr><th>16</th><td>0</td><td>0.6422</td><td>0</td><td>11701765</td><td>0.0</td><td>0.9808</td><td>0.0</td><td>0</td><td>0</td><td>8</td><td>missing</td><td>0.3608</td><td>1014.0</td><td>115.444</td><td>3.55526</td><td>72.1155</td><td>55.779</td><td>0.0211</td><td>0.0</td><td>0.0</td><td>0.0</td><td>0.0</td><td>0.0</td><td>0.0</td><td>0.0</td></tr><tr><th>17</th><td>0</td><td>7.7357</td><td>0</td><td>11702167</td><td>0.0</td><td>132.737</td><td>0.0</td><td>0</td><td>0</td><td>8</td><td>missing</td><td>0.5085</td><td>309.0</td><td>36.066</td><td>1.57715</td><td>69.069</td><td>8.4596</td><td>0.0141</td><td>0.0</td><td>0.0</td><td>0.0</td><td>0.0</td><td>0.0</td><td>0.0</td><td>0.0</td></tr><tr><th>18</th><td>0</td><td>3.4504</td><td>0</td><td>11702373</td><td>0.0</td><td>4.1685</td><td>0.0</td><td>0</td><td>0</td><td>8</td><td>missing</td><td>0.1108</td><td>9204.0</td><td>254.258</td><td>1.96128</td><td>71.1762</td><td>60.4799</td><td>0.066</td><td>0.0</td><td>0.0</td><td>0.0</td><td>0.0</td><td>0.0</td><td>0.0</td><td>0.0</td></tr><tr><th>19</th><td>0</td><td>1.187</td><td>0</td><td>11702468</td><td>0.0</td><td>1.9617</td><td>0.0</td><td>0</td><td>0</td><td>8</td><td>missing</td><td>0.2348</td><td>1208.0</td><td>221.179</td><td>1.70039</td><td>101.325</td><td>49.0386</td><td>0.0231</td><td>0.0</td><td>0.0</td><td>0.0</td><td>0.0</td><td>0.0</td><td>0.0</td><td>0.0</td></tr><tr><th>20</th><td>0</td><td>9.2112</td><td>0</td><td>11702828</td><td>0.0</td><td>33.6746</td><td>0.0</td><td>0</td><td>0</td><td>8</td><td>missing</td><td>0.6821</td><td>962.0</td><td>65.626</td><td>2.81488</td><td>65.2921</td><td>31.3178</td><td>0.0252</td><td>0.0</td><td>0.0</td><td>0.0</td><td>0.0</td><td>0.0</td><td>0.0</td><td>0.0</td></tr><tr><th>21</th><td>0</td><td>3.4752</td><td>0</td><td>11703086</td><td>0.0</td><td>56.56</td><td>0.0</td><td>0</td><td>0</td><td>8</td><td>missing</td><td>0.1937</td><td>905.0</td><td>71.208</td><td>0.97</td><td>65.7633</td><td>8.9639</td><td>0.022</td><td>0.0</td><td>0.0</td><td>0.0</td><td>0.0</td><td>0.0</td><td>0.0</td><td>0.0</td></tr><tr><th>22</th><td>0</td><td>6.1066</td><td>0</td><td>11703765</td><td>0.0</td><td>14.7121</td><td>0.0</td><td>0</td><td>0</td><td>8</td><td>missing</td><td>0.0851</td><td>689.0</td><td>89.032</td><td>4.57453</td><td>70.6262</td><td>52.2986</td><td>0.0181</td><td>0.0</td><td>0.0</td><td>0.0</td><td>0.0</td><td>0.0</td><td>0.0</td><td>0.0</td></tr><tr><th>23</th><td>0</td><td>1.5602</td><td>0</td><td>11752690</td><td>0.0</td><td>1.9617</td><td>0.0</td><td>0</td><td>0</td><td>8</td><td>missing</td><td>0.8743</td><td>1391.0</td><td>246.694</td><td>1.0311</td><td>106.572</td><td>58.8694</td><td>0.0341</td><td>0.0</td><td>0.0</td><td>0.0</td><td>0.0</td><td>0.0</td><td>0.0</td><td>0.0</td></tr><tr><th>24</th><td>0</td><td>5.0091</td><td>0</td><td>11752884</td><td>0.0</td><td>4.9041</td><td>0.0</td><td>0</td><td>0</td><td>8</td><td>missing</td><td>0.5996</td><td>3595.0</td><td>252.789</td><td>1.57765</td><td>109.1</td><td>59.9567</td><td>0.0486</td><td>0.0</td><td>0.0</td><td>0.0</td><td>0.0</td><td>0.0</td><td>0.0</td><td>0.0</td></tr><tr><th>25</th><td>0</td><td>17.6818</td><td>1</td><td>11752906</td><td>13.3271</td><td>15.3007</td><td>0.0</td><td>0</td><td>1</td><td>8</td><td>011752906-02</td><td>0.4186</td><td>1482.0</td><td>104.314</td><td>4.9084</td><td>67.1199</td><td>70.8269</td><td>0.0353</td><td>0.452</td><td>1443.0</td><td>104.531</td><td>4.81873</td><td>137.949</td><td>70.8261</td><td>0.0347</td></tr><tr><th>26</th><td>0</td><td>1.4474</td><td>0</td><td>11754177</td><td>0.0</td><td>1.9617</td><td>0.0</td><td>0</td><td>0</td><td>8</td><td>missing</td><td>0.0786</td><td>960.0</td><td>106.841</td><td>3.84502</td><td>93.7813</td><td>52.5108</td><td>0.0234</td><td>0.0</td><td>0.0</td><td>0.0</td><td>0.0</td><td>0.0</td><td>0.0</td><td>0.0</td></tr><tr><th>27</th><td>0</td><td>2.0147</td><td>0</td><td>11755098</td><td>0.0</td><td>0.9808</td><td>0.0</td><td>0</td><td>0</td><td>8</td><td>missing</td><td>0.1481</td><td>5045.0</td><td>203.611</td><td>3.89987</td><td>108.49</td><td>98.7672</td><td>0.042</td><td>0.0</td><td>0.0</td><td>0.0</td><td>0.0</td><td>0.0</td><td>0.0</td><td>0.0</td></tr><tr><th>28</th><td>0</td><td>5.5088</td><td>0</td><td>11755212</td><td>0.0</td><td>25.9214</td><td>0.0</td><td>0</td><td>0</td><td>8</td><td>missing</td><td>0.2043</td><td>369.0</td><td>94.447</td><td>3.44653</td><td>103.158</td><td>42.7705</td><td>0.0148</td><td>0.0</td><td>0.0</td><td>0.0</td><td>0.0</td><td>0.0</td><td>0.0</td><td>0.0</td></tr><tr><th>29</th><td>0</td><td>1.6868</td><td>0</td><td>11803523</td><td>0.0</td><td>0.9808</td><td>0.0</td><td>0</td><td>0</td><td>8</td><td>missing</td><td>0.32</td><td>1465.0</td><td>172.956</td><td>3.13286</td><td>79.001</td><td>72.1101</td><td>0.0281</td><td>0.0</td><td>0.0</td><td>0.0</td><td>0.0</td><td>0.0</td><td>0.0</td><td>0.0</td></tr><tr><th>30</th><td>0</td><td>1.9183</td><td>0</td><td>11804422</td><td>0.0</td><td>1.9617</td><td>0.0</td><td>0</td><td>0</td><td>8</td><td>missing</td><td>0.3978</td><td>1403.0</td><td>114.15</td><td>4.3704</td><td>67.1023</td><td>68.4448</td><td>0.0251</td><td>0.0</td><td>0.0</td><td>0.0</td><td>0.0</td><td>0.0</td><td>0.0</td><td>0.0</td></tr><tr><th>&vellip;</th><td>&vellip;</td><td>&vellip;</td><td>&vellip;</td><td>&vellip;</td><td>&vellip;</td><td>&vellip;</td><td>&vellip;</td><td>&vellip;</td><td>&vellip;</td><td>&vellip;</td><td>&vellip;</td><td>&vellip;</td><td>&vellip;</td><td>&vellip;</td><td>&vellip;</td><td>&vellip;</td><td>&vellip;</td><td>&vellip;</td><td>&vellip;</td><td>&vellip;</td><td>&vellip;</td><td>&vellip;</td><td>&vellip;</td><td>&vellip;</td><td>&vellip;</td></tr></tbody></table>"
      ],
      "text/latex": [
       "\\begin{tabular}{r|ccccccccccccccccccccccccc}\n",
       "\t& EB\\_injection & Expected\\_MES & Fit\\_Provenance & KIC\\_ID & Measured\\_MES & N\\_Transit & Offset\\_distance & Offset\\_from\\_source & Recovered & Sky\\_Group & TCE\\_ID & i\\_b & i\\_depth & i\\_dor & i\\_dur & i\\_epoch & i\\_period & i\\_ror & r\\_b & r\\_depth & r\\_dor & r\\_dur & r\\_epoch & r\\_period & r\\_ror\\\\\n",
       "\t\\hline\n",
       "\t& Int64 & Float64 & Int64 & Int64 & Float64 & Float64 & Float64 & Int64 & Int64 & Int64 & String⍰ & Float64 & Float64 & Float64 & Float64 & Float64 & Float64 & Float64 & Float64 & Float64 & Float64 & Float64 & Float64 & Float64 & Float64\\\\\n",
       "\t\\hline\n",
       "\t1 & 0 & 2.4719 & 0 & 11445144 & 0.0 & 0.9808 & 0.0 & 0 & 0 & 8 &  & 0.4141 & 1662.0 & 126.498 & 4.0203 & 107.489 & 70.0385 & 0.0306 & 0.0 & 0.0 & 0.0 & 0.0 & 0.0 & 0.0 & 0.0 \\\\\n",
       "\t2 & 0 & 0.9453 & 0 & 11496840 & 0.0 & 0.9808 & 0.0 & 0 & 0 & 8 &  & 0.7649 & 1561.0 & 214.397 & 2.20705 & 103.975 & 87.8829 & 0.035 & 0.0 & 0.0 & 0.0 & 0.0 & 0.0 & 0.0 & 0.0 \\\\\n",
       "\t3 & 0 & 0.9322 & 0 & 11497236 & 0.0 & 0.9808 & 0.0 & 0 & 0 & 8 &  & 0.81 & 1332.0 & 207.336 & 2.11234 & 84.4552 & 88.302 & 0.0334 & 0.0 & 0.0 & 0.0 & 0.0 & 0.0 & 0.0 & 0.0 \\\\\n",
       "\t4 & 0 & 1.1577 & 0 & 11548779 & 0.0 & 2.9425 & 0.0 & 0 & 0 & 8 &  & 0.8915 & 686.0 & 138.661 & 1.00655 & 73.9562 & 35.4942 & 0.0247 & 0.0 & 0.0 & 0.0 & 0.0 & 0.0 & 0.0 & 0.0 \\\\\n",
       "\t5 & 0 & 3.9829 & 0 & 11600744 & 0.0 & 23.2943 & 0.0 & 0 & 0 & 8 &  & 0.8738 & 372.0 & 110.768 & 1.77915 & 97.2396 & 48.8212 & 0.0183 & 0.0 & 0.0 & 0.0 & 0.0 & 0.0 & 0.0 & 0.0 \\\\\n",
       "\t6 & 0 & 8.7399 & 1 & 11601794 & 8.4883 & 15.1325 & 0.0 & 0 & 1 & 8 & 011601794-01 & 0.3761 & 838.0 & 133.934 & 3.88664 & 111.524 & 71.3789 & 0.0232 & 0.499 & 710.0 & 119.969 & 4.07025 & 182.886 & 71.3804 & 0.025 \\\\\n",
       "\t7 & 0 & 6.5484 & 0 & 11651634 & 0.0 & 93.9127 & 0.0 & 0 & 0 & 8 &  & 0.3893 & 417.0 & 45.626 & 1.92268 & 65.4292 & 12.199 & 0.0144 & 0.0 & 0.0 & 0.0 & 0.0 & 0.0 & 0.0 & 0.0 \\\\\n",
       "\t8 & 0 & 6.7866 & 0 & 11652051 & 0.0 & 56.0697 & 0.0 & 0 & 0 & 8 &  & 0.0016 & 481.0 & 56.138 & 2.76096 & 68.6416 & 19.905 & 0.0159 & 0.0 & 0.0 & 0.0 & 0.0 & 0.0 & 0.0 & 0.0 \\\\\n",
       "\t9 & 0 & 1.5078 & 0 & 11652704 & 0.0 & 8.8276 & 0.0 & 0 & 0 & 8 &  & 0.3136 & 685.0 & 42.672 & 1.75635 & 71.4388 & 10.0683 & 0.0206 & 0.0 & 0.0 & 0.0 & 0.0 & 0.0 & 0.0 & 0.0 \\\\\n",
       "\t10 & 0 & 4.2792 & 0 & 11652732 & 0.0 & 6.2772 & 0.0 & 0 & 0 & 8 &  & 0.4757 & 761.0 & 157.822 & 2.35004 & 118.021 & 53.4462 & 0.0232 & 0.0 & 0.0 & 0.0 & 0.0 & 0.0 & 0.0 & 0.0 \\\\\n",
       "\t11 & 0 & 2.8227 & 0 & 11653019 & 0.0 & 2.2068 & 0.0 & 0 & 0 & 8 &  & 0.8637 & 1543.0 & 220.191 & 2.00733 & 92.7997 & 99.054 & 0.0369 & 0.0 & 0.0 & 0.0 & 0.0 & 0.0 & 0.0 & 0.0 \\\\\n",
       "\t12 & 0 & 2.4685 & 0 & 11653212 & 0.0 & 3.9234 & 0.0 & 0 & 0 & 8 &  & 0.2079 & 1710.0 & 64.021 & 3.16547 & 80.7006 & 26.1243 & 0.0278 & 0.0 & 0.0 & 0.0 & 0.0 & 0.0 & 0.0 & 0.0 \\\\\n",
       "\t13 & 0 & 7.2307 & 0 & 11653259 & 0.0 & 48.0597 & 0.0 & 0 & 0 & 8 &  & 0.1532 & 588.0 & 75.817 & 2.28139 & 79.394 & 22.4194 & 0.0182 & 0.0 & 0.0 & 0.0 & 0.0 & 0.0 & 0.0 & 0.0 \\\\\n",
       "\t14 & 0 & 7.5209 & 0 & 11701420 & 0.0 & 16.0199 & 0.0 & 0 & 0 & 8 &  & 0.1238 & 521.0 & 129.346 & 4.0213 & 105.604 & 67.2402 & 0.0171 & 0.0 & 0.0 & 0.0 & 0.0 & 0.0 & 0.0 & 0.0 \\\\\n",
       "\t15 & 0 & 3.6943 & 0 & 11701589 & 0.0 & 5.1493 & 0.0 & 0 & 0 & 8 &  & 0.9267 & 1611.0 & 194.46 & 1.90521 & 84.9286 & 99.582 & 0.0398 & 0.0 & 0.0 & 0.0 & 0.0 & 0.0 & 0.0 & 0.0 \\\\\n",
       "\t16 & 0 & 0.6422 & 0 & 11701765 & 0.0 & 0.9808 & 0.0 & 0 & 0 & 8 &  & 0.3608 & 1014.0 & 115.444 & 3.55526 & 72.1155 & 55.779 & 0.0211 & 0.0 & 0.0 & 0.0 & 0.0 & 0.0 & 0.0 & 0.0 \\\\\n",
       "\t17 & 0 & 7.7357 & 0 & 11702167 & 0.0 & 132.737 & 0.0 & 0 & 0 & 8 &  & 0.5085 & 309.0 & 36.066 & 1.57715 & 69.069 & 8.4596 & 0.0141 & 0.0 & 0.0 & 0.0 & 0.0 & 0.0 & 0.0 & 0.0 \\\\\n",
       "\t18 & 0 & 3.4504 & 0 & 11702373 & 0.0 & 4.1685 & 0.0 & 0 & 0 & 8 &  & 0.1108 & 9204.0 & 254.258 & 1.96128 & 71.1762 & 60.4799 & 0.066 & 0.0 & 0.0 & 0.0 & 0.0 & 0.0 & 0.0 & 0.0 \\\\\n",
       "\t19 & 0 & 1.187 & 0 & 11702468 & 0.0 & 1.9617 & 0.0 & 0 & 0 & 8 &  & 0.2348 & 1208.0 & 221.179 & 1.70039 & 101.325 & 49.0386 & 0.0231 & 0.0 & 0.0 & 0.0 & 0.0 & 0.0 & 0.0 & 0.0 \\\\\n",
       "\t20 & 0 & 9.2112 & 0 & 11702828 & 0.0 & 33.6746 & 0.0 & 0 & 0 & 8 &  & 0.6821 & 962.0 & 65.626 & 2.81488 & 65.2921 & 31.3178 & 0.0252 & 0.0 & 0.0 & 0.0 & 0.0 & 0.0 & 0.0 & 0.0 \\\\\n",
       "\t21 & 0 & 3.4752 & 0 & 11703086 & 0.0 & 56.56 & 0.0 & 0 & 0 & 8 &  & 0.1937 & 905.0 & 71.208 & 0.97 & 65.7633 & 8.9639 & 0.022 & 0.0 & 0.0 & 0.0 & 0.0 & 0.0 & 0.0 & 0.0 \\\\\n",
       "\t22 & 0 & 6.1066 & 0 & 11703765 & 0.0 & 14.7121 & 0.0 & 0 & 0 & 8 &  & 0.0851 & 689.0 & 89.032 & 4.57453 & 70.6262 & 52.2986 & 0.0181 & 0.0 & 0.0 & 0.0 & 0.0 & 0.0 & 0.0 & 0.0 \\\\\n",
       "\t23 & 0 & 1.5602 & 0 & 11752690 & 0.0 & 1.9617 & 0.0 & 0 & 0 & 8 &  & 0.8743 & 1391.0 & 246.694 & 1.0311 & 106.572 & 58.8694 & 0.0341 & 0.0 & 0.0 & 0.0 & 0.0 & 0.0 & 0.0 & 0.0 \\\\\n",
       "\t24 & 0 & 5.0091 & 0 & 11752884 & 0.0 & 4.9041 & 0.0 & 0 & 0 & 8 &  & 0.5996 & 3595.0 & 252.789 & 1.57765 & 109.1 & 59.9567 & 0.0486 & 0.0 & 0.0 & 0.0 & 0.0 & 0.0 & 0.0 & 0.0 \\\\\n",
       "\t25 & 0 & 17.6818 & 1 & 11752906 & 13.3271 & 15.3007 & 0.0 & 0 & 1 & 8 & 011752906-02 & 0.4186 & 1482.0 & 104.314 & 4.9084 & 67.1199 & 70.8269 & 0.0353 & 0.452 & 1443.0 & 104.531 & 4.81873 & 137.949 & 70.8261 & 0.0347 \\\\\n",
       "\t26 & 0 & 1.4474 & 0 & 11754177 & 0.0 & 1.9617 & 0.0 & 0 & 0 & 8 &  & 0.0786 & 960.0 & 106.841 & 3.84502 & 93.7813 & 52.5108 & 0.0234 & 0.0 & 0.0 & 0.0 & 0.0 & 0.0 & 0.0 & 0.0 \\\\\n",
       "\t27 & 0 & 2.0147 & 0 & 11755098 & 0.0 & 0.9808 & 0.0 & 0 & 0 & 8 &  & 0.1481 & 5045.0 & 203.611 & 3.89987 & 108.49 & 98.7672 & 0.042 & 0.0 & 0.0 & 0.0 & 0.0 & 0.0 & 0.0 & 0.0 \\\\\n",
       "\t28 & 0 & 5.5088 & 0 & 11755212 & 0.0 & 25.9214 & 0.0 & 0 & 0 & 8 &  & 0.2043 & 369.0 & 94.447 & 3.44653 & 103.158 & 42.7705 & 0.0148 & 0.0 & 0.0 & 0.0 & 0.0 & 0.0 & 0.0 & 0.0 \\\\\n",
       "\t29 & 0 & 1.6868 & 0 & 11803523 & 0.0 & 0.9808 & 0.0 & 0 & 0 & 8 &  & 0.32 & 1465.0 & 172.956 & 3.13286 & 79.001 & 72.1101 & 0.0281 & 0.0 & 0.0 & 0.0 & 0.0 & 0.0 & 0.0 & 0.0 \\\\\n",
       "\t30 & 0 & 1.9183 & 0 & 11804422 & 0.0 & 1.9617 & 0.0 & 0 & 0 & 8 &  & 0.3978 & 1403.0 & 114.15 & 4.3704 & 67.1023 & 68.4448 & 0.0251 & 0.0 & 0.0 & 0.0 & 0.0 & 0.0 & 0.0 & 0.0 \\\\\n",
       "\t$\\dots$ & $\\dots$ & $\\dots$ & $\\dots$ & $\\dots$ & $\\dots$ & $\\dots$ & $\\dots$ & $\\dots$ & $\\dots$ & $\\dots$ & $\\dots$ & $\\dots$ & $\\dots$ & $\\dots$ & $\\dots$ & $\\dots$ & $\\dots$ & $\\dots$ & $\\dots$ & $\\dots$ & $\\dots$ & $\\dots$ & $\\dots$ & $\\dots$ & $\\dots$ \\\\\n",
       "\\end{tabular}\n"
      ],
      "text/plain": [
       "146294×25 DataFrame. Omitted printing of 21 columns\n",
       "│ Row    │ EB_injection │ Expected_MES │ Fit_Provenance │ KIC_ID   │\n",
       "│        │ \u001b[90mInt64\u001b[39m        │ \u001b[90mFloat64\u001b[39m      │ \u001b[90mInt64\u001b[39m          │ \u001b[90mInt64\u001b[39m    │\n",
       "├────────┼──────────────┼──────────────┼────────────────┼──────────┤\n",
       "│ 1      │ 0            │ 2.4719       │ 0              │ 11445144 │\n",
       "│ 2      │ 0            │ 0.9453       │ 0              │ 11496840 │\n",
       "│ 3      │ 0            │ 0.9322       │ 0              │ 11497236 │\n",
       "│ 4      │ 0            │ 1.1577       │ 0              │ 11548779 │\n",
       "│ 5      │ 0            │ 3.9829       │ 0              │ 11600744 │\n",
       "│ 6      │ 0            │ 8.7399       │ 1              │ 11601794 │\n",
       "│ 7      │ 0            │ 6.5484       │ 0              │ 11651634 │\n",
       "│ 8      │ 0            │ 6.7866       │ 0              │ 11652051 │\n",
       "│ 9      │ 0            │ 1.5078       │ 0              │ 11652704 │\n",
       "│ 10     │ 0            │ 4.2792       │ 0              │ 11652732 │\n",
       "⋮\n",
       "│ 146284 │ 0            │ 1.4771       │ 0              │ 10412175 │\n",
       "│ 146285 │ 0            │ 5.0399       │ 0              │ 10412223 │\n",
       "│ 146286 │ 0            │ 9.3471       │ 1              │ 10412226 │\n",
       "│ 146287 │ 0            │ 4.69         │ 0              │ 10477502 │\n",
       "│ 146288 │ 0            │ 15.4175      │ 1              │ 10477662 │\n",
       "│ 146289 │ 0            │ 2.1017       │ 0              │ 10477697 │\n",
       "│ 146290 │ 0            │ 12.8021      │ 1              │ 10477707 │\n",
       "│ 146291 │ 0            │ 6.8601       │ 0              │ 10477733 │\n",
       "│ 146292 │ 0            │ 6.6907       │ 0              │ 10477762 │\n",
       "│ 146293 │ 0            │ 6.4567       │ 0              │ 10477794 │\n",
       "│ 146294 │ 0            │ 7.9734       │ 0              │ 10477878 │"
      ]
     },
     "execution_count": 11,
     "metadata": {},
     "output_type": "execute_result"
    }
   ],
   "source": [
    "path = basename(pwd())==\"test\" ? \"../data/\" : \"data/\"\n",
    "url = \"https://exoplanetarchive.ipac.caltech.edu/data/KeplerData/Simulated/kplr_dr25_inj1_plti.txt\"\n",
    "filename_ipac = path * basename(url)    # extract the filename and prepend path to data directory\n",
    "filename_feather = replace(filename_ipac, \".txt\" => \".feather\") \n",
    "if !isfile(filename_feather)\n",
    "    download(url,filename_feather)\n",
    "end\n",
    "df_inj1 = Feather.read(filename_feather)"
   ]
  },
  {
   "cell_type": "markdown",
   "metadata": {},
   "source": [
    "### Task 1: Remove a subset of rwos\n",
    "\n",
    "It turns out that some of the stars the Kepler mission observed are particularly noisy.  \n",
    "Since there stars are not representative of the stars that Kepler searched for planet, the Kepler project suggested that people consider excluding these stars when computing the detection efficiency from simulated data.\n",
    "They kindly provided a list of the KIC_ID's of such stars that we can download.  \n",
    "\n",
    "### Download & Read Second File"
   ]
  },
  {
   "cell_type": "code",
   "execution_count": 15,
   "metadata": {
    "ExecuteTime": {
     "end_time": "2019-01-22T02:28:37.897000-05:00",
     "start_time": "2019-01-22T07:28:37.871Z"
    }
   },
   "outputs": [],
   "source": [
    "url = \"https://raw.githubusercontent.com/nasa/KeplerPORTs/master/DR25_DEModel_NoisyTargetList.txt\"\n",
    "filename = path * basename(url)    # extract the filename and prepend \"data/\"\n",
    "if !isfile(filename)\n",
    "   download(url,filename)\n",
    "end"
   ]
  },
  {
   "cell_type": "code",
   "execution_count": 16,
   "metadata": {
    "ExecuteTime": {
     "end_time": "2019-01-22T02:28:39.091000-05:00",
     "start_time": "2019-01-22T07:28:39.070Z"
    }
   },
   "outputs": [
    {
     "data": {
      "text/html": [
       "<table class=\"data-frame\"><thead><tr><th></th><th>KIC_ID</th></tr><tr><th></th><th>Int64⍰</th></tr></thead><tbody><p>8,628 rows × 1 columns</p><tr><th>1</th><td>892010</td></tr><tr><th>2</th><td>892738</td></tr><tr><th>3</th><td>893210</td></tr><tr><th>4</th><td>893233</td></tr><tr><th>5</th><td>1025986</td></tr><tr><th>6</th><td>1026180</td></tr><tr><th>7</th><td>1026309</td></tr><tr><th>8</th><td>1026861</td></tr><tr><th>9</th><td>1026895</td></tr><tr><th>10</th><td>1027110</td></tr><tr><th>11</th><td>1027707</td></tr><tr><th>12</th><td>1028246</td></tr><tr><th>13</th><td>1160789</td></tr><tr><th>14</th><td>1160867</td></tr><tr><th>15</th><td>1161345</td></tr><tr><th>16</th><td>1161618</td></tr><tr><th>17</th><td>1162036</td></tr><tr><th>18</th><td>1162220</td></tr><tr><th>19</th><td>1162746</td></tr><tr><th>20</th><td>1163943</td></tr><tr><th>21</th><td>1164590</td></tr><tr><th>22</th><td>1294756</td></tr><tr><th>23</th><td>1295531</td></tr><tr><th>24</th><td>1296110</td></tr><tr><th>25</th><td>1296862</td></tr><tr><th>26</th><td>1297510</td></tr><tr><th>27</th><td>1430207</td></tr><tr><th>28</th><td>1430353</td></tr><tr><th>29</th><td>1431599</td></tr><tr><th>30</th><td>1432587</td></tr><tr><th>&vellip;</th><td>&vellip;</td></tr></tbody></table>"
      ],
      "text/latex": [
       "\\begin{tabular}{r|c}\n",
       "\t& KIC\\_ID\\\\\n",
       "\t\\hline\n",
       "\t& Int64⍰\\\\\n",
       "\t\\hline\n",
       "\t1 & 892010 \\\\\n",
       "\t2 & 892738 \\\\\n",
       "\t3 & 893210 \\\\\n",
       "\t4 & 893233 \\\\\n",
       "\t5 & 1025986 \\\\\n",
       "\t6 & 1026180 \\\\\n",
       "\t7 & 1026309 \\\\\n",
       "\t8 & 1026861 \\\\\n",
       "\t9 & 1026895 \\\\\n",
       "\t10 & 1027110 \\\\\n",
       "\t11 & 1027707 \\\\\n",
       "\t12 & 1028246 \\\\\n",
       "\t13 & 1160789 \\\\\n",
       "\t14 & 1160867 \\\\\n",
       "\t15 & 1161345 \\\\\n",
       "\t16 & 1161618 \\\\\n",
       "\t17 & 1162036 \\\\\n",
       "\t18 & 1162220 \\\\\n",
       "\t19 & 1162746 \\\\\n",
       "\t20 & 1163943 \\\\\n",
       "\t21 & 1164590 \\\\\n",
       "\t22 & 1294756 \\\\\n",
       "\t23 & 1295531 \\\\\n",
       "\t24 & 1296110 \\\\\n",
       "\t25 & 1296862 \\\\\n",
       "\t26 & 1297510 \\\\\n",
       "\t27 & 1430207 \\\\\n",
       "\t28 & 1430353 \\\\\n",
       "\t29 & 1431599 \\\\\n",
       "\t30 & 1432587 \\\\\n",
       "\t$\\dots$ & $\\dots$ \\\\\n",
       "\\end{tabular}\n"
      ],
      "text/plain": [
       "8628×1 DataFrame\n",
       "│ Row  │ KIC_ID   │\n",
       "│      │ \u001b[90mInt64⍰\u001b[39m   │\n",
       "├──────┼──────────┤\n",
       "│ 1    │ 892010   │\n",
       "│ 2    │ 892738   │\n",
       "│ 3    │ 893210   │\n",
       "│ 4    │ 893233   │\n",
       "│ 5    │ 1025986  │\n",
       "│ 6    │ 1026180  │\n",
       "│ 7    │ 1026309  │\n",
       "│ 8    │ 1026861  │\n",
       "│ 9    │ 1026895  │\n",
       "│ 10   │ 1027110  │\n",
       "⋮\n",
       "│ 8618 │ 12736892 │\n",
       "│ 8619 │ 12783196 │\n",
       "│ 8620 │ 12783511 │\n",
       "│ 8621 │ 12784683 │\n",
       "│ 8622 │ 12784998 │\n",
       "│ 8623 │ 12785083 │\n",
       "│ 8624 │ 12785401 │\n",
       "│ 8625 │ 12833300 │\n",
       "│ 8626 │ 12884274 │\n",
       "│ 8627 │ 12884661 │\n",
       "│ 8628 │ 12984404 │"
      ]
     },
     "execution_count": 16,
     "metadata": {},
     "output_type": "execute_result"
    }
   ],
   "source": [
    "stars_to_exclude = CSV.read(filename,header=[\"KIC_ID\"],skipto=11)"
   ]
  },
  {
   "cell_type": "markdown",
   "metadata": {},
   "source": [
    "In this exercise, we'll try removing those stars from our DataFrame a few different ways and compare the performance.\n",
    "\n",
    "### Remove Rows Manually, One-by-one\n",
    "\n",
    "Perhaps, the most obvious way is to go through the list and remove each noisy star one at a time.  Let's write a function to do that first.  We'll call it once with an empty list of stars to exclude, so that Julia compiles the code.  "
   ]
  },
  {
   "cell_type": "code",
   "execution_count": null,
   "metadata": {
    "ExecuteTime": {
     "end_time": "2019-01-22T02:26:07.572000-05:00",
     "start_time": "2019-01-22T07:25:54.484Z"
    }
   },
   "outputs": [],
   "source": [
    "\"\"\"\n",
    "   remove_rows_from_dataframe_one_by_one(df, col_name, values_to_delete)\n",
    "\n",
    "Remove rows from df if df[:col_name] matches a value in values_to_delete[:colname].\n",
    "Warning: This is extremely inefficient and serves as an example of what _not_ to do.\n",
    "\"\"\"\n",
    "function remove_rows_from_dataframe_one_by_one(df::DataFrame, col_name, values_to_delete)\n",
    "   for v in values_to_delete[col_name]\n",
    "      ind = findfirst(x->x==v,  df_inj1[:KIC_ID] )\n",
    "      if ind == nothing\n",
    "            continue\n",
    "      end\n",
    "      if 1 < ind < size(df,1)\n",
    "        df = df[[1:(ind-1);(ind+1):end],:]\n",
    "      elseif ind == 1\n",
    "        df = df[2:end,:]\n",
    "      elseif ind == size(df,1)\n",
    "        df = df[1:end-1,:]\n",
    "      end\n",
    "   end\n",
    "   return df\n",
    "end\n",
    "\n",
    "small_df = DataFrame(KIC_ID=Int64[])\n",
    "df_tmp = deepcopy(df_inj1)\n",
    "df_trimed = remove_rows_from_dataframe_one_by_one(df_tmp, :KIC_ID, small_df)"
   ]
  },
  {
   "cell_type": "markdown",
   "metadata": {
    "ExecuteTime": {
     "end_time": "2019-01-22T02:26:58.953000-05:00",
     "start_time": "2019-01-22T07:26:58.583Z"
    }
   },
   "source": [
    "Now, time it while running on our real DataFrame.  Be warned... It's so painfully slow, that when we call it, I suggest that you may only want ask it to exclude the first 1000 stars."
   ]
  },
  {
   "cell_type": "code",
   "execution_count": 12,
   "metadata": {
    "ExecuteTime": {
     "end_time": "2019-01-22T02:26:07.572000-05:00",
     "start_time": "2019-01-22T07:25:54.484Z"
    }
   },
   "outputs": [
    {
     "name": "stdout",
     "output_type": "stream",
     "text": [
      " 12.938018 seconds (245.19 k allocations: 19.432 GiB, 63.60% gc time)\n"
     ]
    },
    {
     "data": {
      "text/plain": [
       "(145607, 25)"
      ]
     },
     "execution_count": 12,
     "metadata": {},
     "output_type": "execute_result"
    }
   ],
   "source": [
    "@time df_trimed = remove_rows_from_dataframe_one_by_one(df_tmp, :KIC_ID, stars_to_exclude[1:1000,:]);\n",
    "size(df_trimed)"
   ]
  },
  {
   "cell_type": "markdown",
   "metadata": {},
   "source": [
    "### Remove Rows Manually, All at once using a \"mask\""
   ]
  },
  {
   "cell_type": "code",
   "execution_count": null,
   "metadata": {
    "ExecuteTime": {
     "end_time": "2019-01-22T01:21:58.973000-05:00",
     "start_time": "2019-01-22T06:21:05.085Z"
    }
   },
   "outputs": [],
   "source": [
    "\"\"\"\n",
    "   remove_rows_from_dataframe_mask(df, col_name, values_to_delete)\n",
    "\n",
    "Remove rows from df if df[:col_name] matches a value in values_to_delete[:colname].\n",
    "Warning: This is not as efficient as using a `join`.\n",
    "\"\"\"\n",
    "function remove_rows_from_dataframe_mask(df::DataFrame, col_name::Symbol, values_to_delete::DataFrame)\n",
    "   keep = trues(size(df,1))\n",
    "   for v in values_to_delete[col_name]\n",
    "      ind = findfirst(x->x==v,  df_inj1[:KIC_ID] )\n",
    "      if ind != nothing\n",
    "            keep[ind] = false\n",
    "      end\n",
    "   end\n",
    "   return df[keep,:]\n",
    "end\n",
    "\n",
    "df_tmp = deepcopy(df_inj1)\n",
    "df_trimed = remove_rows_from_dataframe_mask(df_tmp, :KIC_ID, small_df)"
   ]
  },
  {
   "cell_type": "markdown",
   "metadata": {
    "ExecuteTime": {
     "end_time": "2019-01-22T01:21:58.973000-05:00",
     "start_time": "2019-01-22T06:21:05.085Z"
    }
   },
   "source": [
    "What do you anticipate will be the ratio of time required to remove rows using this function relative to using `remove_rows_from_dataframe_one_by_one`?  (The full list of stars to exclude is 8628 KIC_ID's, rather than just 1,000.)\n",
    "    \n",
    "INSERT RESPONSE"
   ]
  },
  {
   "cell_type": "code",
   "execution_count": null,
   "metadata": {
    "ExecuteTime": {
     "end_time": "2019-01-22T01:21:58.973000-05:00",
     "start_time": "2019-01-22T06:21:05.085Z"
    }
   },
   "outputs": [],
   "source": [
    "@time df_trimed = remove_rows_from_dataframe_mask(df_tmp, :KIC_ID, stars_to_exclude);\n",
    "size(df_trimed)"
   ]
  },
  {
   "cell_type": "markdown",
   "metadata": {
    "ExecuteTime": {
     "end_time": "2019-01-22T02:30:09.530000-05:00",
     "start_time": "2019-01-22T07:30:09.525Z"
    }
   },
   "source": [
    "How did the results compare to your expectations?\n",
    "\n",
    "INSERT RESPONSE"
   ]
  },
  {
   "cell_type": "markdown",
   "metadata": {},
   "source": [
    "### Remove Rows using  Join, kind=:anti\n",
    "This is such a common operation, that computer scientists have worked hard to implement it efficiently.  They refer to these types of operations as doing a [`join`](http://juliadata.github.io/DataFrames.jl/stable/man/joins.html).  In this case we're excluding rows, so the \"kind\" of join is \"Anti\".  \n",
    "\n",
    "As before, we'll do a small test to make sure the functions are compiled."
   ]
  },
  {
   "cell_type": "code",
   "execution_count": 19,
   "metadata": {
    "ExecuteTime": {
     "end_time": "2019-01-22T02:32:10.219000-05:00",
     "start_time": "2019-01-22T07:32:10.151Z"
    }
   },
   "outputs": [],
   "source": [
    "df_tmp = deepcopy(df_inj1)\n",
    "join(df_tmp, small_df, on=:KIC_ID, kind=:anti);"
   ]
  },
  {
   "cell_type": "markdown",
   "metadata": {
    "ExecuteTime": {
     "end_time": "2019-01-22T02:32:44.216000-05:00",
     "start_time": "2019-01-22T07:32:44.201Z"
    }
   },
   "source": [
    "How much faster do you expect using `join` will be relative to using `remove_rows_from_dataframe_mask`?  \n",
    "\n",
    "INSERT RESPONSE"
   ]
  },
  {
   "cell_type": "code",
   "execution_count": null,
   "metadata": {
    "ExecuteTime": {
     "end_time": "2019-01-22T01:22:02.710000-05:00",
     "start_time": "2019-01-22T06:21:05.088Z"
    }
   },
   "outputs": [],
   "source": [
    "@time df_trimed = join(df_tmp, stars_to_exclude, on=:KIC_ID, kind=:anti);\n",
    "size(df_trimed)"
   ]
  },
  {
   "cell_type": "markdown",
   "metadata": {},
   "source": [
    "How did your benchmarking compare to your expectations?"
   ]
  },
  {
   "cell_type": "markdown",
   "metadata": {},
   "source": [
    "## Task 2: Combine data from two files\n",
    "\n",
    "It turns out that there's lots more known about each of Kepler's targets than what is in the first file we downloaded.\n",
    "For the sake of an example, I'll provide a CSV file with information about when each star was observed.  The meaning of most columns isn't important for this exercise.  We're just practicing how merge the DataFrames.  \n",
    "\n",
    "First, let's download and read in the file."
   ]
  },
  {
   "cell_type": "code",
   "execution_count": null,
   "metadata": {
    "ExecuteTime": {
     "end_time": "2019-01-22T01:22:25.424000-05:00",
     "start_time": "2019-01-22T06:21:05.091Z"
    }
   },
   "outputs": [],
   "source": [
    "url = \"http://personal.psu.edu/~ebf11/data/kepler/KeplerMAST_TargetProperties.csv\"\n",
    "filename = path * basename(url)    # extract the filename and prepend \"data/\"\n",
    "if !isfile(filename)\n",
    "  download(url,filename)\n",
    "end\n",
    "\n",
    "df_mast = CSV.read(filename)"
   ]
  },
  {
   "cell_type": "markdown",
   "metadata": {},
   "source": [
    "### Join\n",
    "\n",
    "Notice that `df_mast` has a column `kepid`, while `df_inj1` has a column `KIC_ID`.  We know that these are the same, but the computer doesn't.  We'll rename one of them, so they match.  Then, we can perform a `join` on the two DataFrames, using KEP_ID as the common _key_ for identifying which rows go together.  \n",
    "\n",
    "    \n",
    "    "
   ]
  },
  {
   "cell_type": "code",
   "execution_count": null,
   "metadata": {
    "ExecuteTime": {
     "end_time": "2019-01-22T01:22:25.486000-05:00",
     "start_time": "2019-01-22T06:21:05.093Z"
    }
   },
   "outputs": [],
   "source": [
    "@time rename!(df_mast, :kepid => :KIC_ID)"
   ]
  },
  {
   "cell_type": "markdown",
   "metadata": {},
   "source": [
    "Notice that renmaing the column was very fast and resulted in allocating very little memory.  \n",
    "Now we can join the two tables by the key `:KIC_ID`."
   ]
  },
  {
   "cell_type": "code",
   "execution_count": null,
   "metadata": {
    "ExecuteTime": {
     "end_time": "2019-01-22T01:22:27.028000-05:00",
     "start_time": "2019-01-22T06:21:05.098Z"
    }
   },
   "outputs": [],
   "source": [
    "join(df_inj1[1:100,:],df_mast[1:100,:], on=:KIC_ID)      # call once so it compiles before timing the real call\n",
    "@time df_combined = join(df_inj1,df_mast, on=:KIC_ID)"
   ]
  },
  {
   "cell_type": "markdown",
   "metadata": {},
   "source": [
    "## Advanced features\n",
    "There are multiple packages (e.g., [Query.jl](http://www.queryverse.org/Query.jl/stable/gettingstarted.html) and [DataFramesMeta.jl](https://github.com/JuliaData/DataFramesMeta.jl)) that provide efficient means of [querying DataFrames](http://juliadata.github.io/DataFrames.jl/stable/man/querying_frameworks.html).  \n",
    "Databases have been the subject of much computer science research.  Therefore, it is often significantly more efficient to use packages such as these, rather than trying to implement similar operations yourself. \n",
    "\n",
    "If your class project will involve you performing complex queries or manipulations of DataFrames, then I'd suggest you tinker around below, before attempting to implement complicated queries for your real project.  If you do, please conclude with a brief summary of what you learned and any thing that surprised you."
   ]
  },
  {
   "cell_type": "code",
   "execution_count": null,
   "metadata": {},
   "outputs": [],
   "source": []
  }
 ],
 "metadata": {
  "kernelspec": {
   "display_name": "Julia 1.0.2",
   "language": "julia",
   "name": "julia-1.0"
  },
  "language_info": {
   "file_extension": ".jl",
   "mimetype": "application/julia",
   "name": "julia",
   "version": "1.0.2"
  },
  "toc": {
   "base_numbering": 1,
   "nav_menu": {},
   "number_sections": true,
   "sideBar": true,
   "skip_h1_title": false,
   "title_cell": "Table of Contents",
   "title_sidebar": "Contents",
   "toc_cell": false,
   "toc_position": {},
   "toc_section_display": true,
   "toc_window_display": false
  },
  "varInspector": {
   "cols": {
    "lenName": 16,
    "lenType": 16,
    "lenVar": 40
   },
   "kernels_config": {
    "python": {
     "delete_cmd_postfix": "",
     "delete_cmd_prefix": "del ",
     "library": "var_list.py",
     "varRefreshCmd": "print(var_dic_list())"
    },
    "r": {
     "delete_cmd_postfix": ") ",
     "delete_cmd_prefix": "rm(",
     "library": "var_list.r",
     "varRefreshCmd": "cat(var_dic_list()) "
    }
   },
   "types_to_exclude": [
    "module",
    "function",
    "builtin_function_or_method",
    "instance",
    "_Feature"
   ],
   "window_display": false
  }
 },
 "nbformat": 4,
 "nbformat_minor": 2
}
