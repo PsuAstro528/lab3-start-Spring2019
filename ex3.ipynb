{
 "cells": [
  {
   "cell_type": "markdown",
   "metadata": {},
   "source": [
    "# Astro 528, Lab 3, Exercise 3\n",
    "# Dense Matrix-Vector Multiply\n",
    "\n",
    "Many problems involve performing linear algebra. Fortunately, there are excellent libraries that make use of clever algorithms to perform linear algebra efficiently and robustly. In this exercise, you'll write multiple functions to multiply a matrix times a vector to compare their performance.\n",
    "\n",
    "First, let's make sure you have all the packages you need installed."
   ]
  },
  {
   "cell_type": "code",
   "execution_count": 1,
   "metadata": {
    "ExecuteTime": {
     "end_time": "2019-01-22T01:21:42.242000-05:00",
     "start_time": "2019-01-22T06:21:36.696Z"
    }
   },
   "outputs": [
    {
     "name": "stdout",
     "output_type": "stream",
     "text": [
      "\u001b[32m\u001b[1m  Updating\u001b[22m\u001b[39m registry at `~/.julia/registries/General`\n",
      "\u001b[32m\u001b[1m  Updating\u001b[22m\u001b[39m git-repo `https://github.com/JuliaRegistries/General.git`\n",
      "\u001b[?25l\u001b[2K\u001b[?25h"
     ]
    }
   ],
   "source": [
    "using Pkg;\n",
    "Pkg.activate(\".\");\n",
    "Pkg.instantiate()\n",
    "using Random, Test, BenchmarkTools"
   ]
  },
  {
   "cell_type": "markdown",
   "metadata": {},
   "source": [
    "### Using Julia's default library \n",
    "Write a function `multiply_matrix_vector_default(A,b)` that takes a matrix A (e.g., type `Array{Float64,2}`) and a vector b (e.g., type `Vector{Float64` or `Array{Float64,1}`) and returns the product of A times b using Julia's default linear algebra routines (accessed by just `A*b`)."
   ]
  },
  {
   "cell_type": "code",
   "execution_count": 2,
   "metadata": {
    "ExecuteTime": {
     "end_time": "2019-01-22T01:21:42.961000-05:00",
     "start_time": "2019-01-22T06:21:36.698Z"
    }
   },
   "outputs": [
    {
     "data": {
      "text/plain": [
       "multiply_matrix_vector_default"
      ]
     },
     "execution_count": 2,
     "metadata": {},
     "output_type": "execute_result"
    }
   ],
   "source": [
    "\"Multiply matrix A and vector b using Julia's built-in linear algebra libraries\"\n",
    "function multiply_matrix_vector_default(A::Matrix{T1}, b::Vector{T2}) where {T1<:Number, T2<:Number}\n",
    "    # INSERT CODE\n",
    "    # SOLUTION\n",
    "    @assert size(A,2)==size(b,1)\n",
    "    out = A*b\n",
    "end"
   ]
  },
  {
   "cell_type": "markdown",
   "metadata": {},
   "source": [
    "### Hand-coded, inner loop over columns\n",
    "Write a function `multiply_matrix_vector_cols_inner(A,b)` that takes a matrix A and a vector b and returns the product of A times b, but without using Julia's default linear algebra routines. You'll use two loops. For this part, let the inner loop run over the columns (i.e., second index) for A. "
   ]
  },
  {
   "cell_type": "code",
   "execution_count": 3,
   "metadata": {
    "ExecuteTime": {
     "end_time": "2019-01-22T01:21:43.137000-05:00",
     "start_time": "2019-01-22T06:21:36.700Z"
    }
   },
   "outputs": [
    {
     "data": {
      "text/plain": [
       "multiply_matrix_vector_cols_inner"
      ]
     },
     "execution_count": 3,
     "metadata": {},
     "output_type": "execute_result"
    }
   ],
   "source": [
    "# INSERT CODE\n",
    "\"Multiply matrix A and vector b by hand using columns for inner loop\"\n",
    "function multiply_matrix_vector_cols_inner(A::Matrix{T1}, b::Vector{T2})  where {T1<:Number, T2<:Number}\n",
    "    # INSERT CODE\n",
    "    # SOLUTION\n",
    "    @assert size(A,2) == size(b,1)\n",
    "    out = zeros( promote_type(eltype(A),eltype(b)), size(A,1) )\n",
    "    for i in 1:size(A,1)\n",
    "        for j in 1:size(A,2)\n",
    "            out[i] += A[i,j]*b[j]\n",
    "        end\n",
    "    end\n",
    "    return out\n",
    "end"
   ]
  },
  {
   "cell_type": "markdown",
   "metadata": {},
   "source": [
    "### Regression testing (1/2)\n",
    "Compare the results of your two functions aboves.  Make the comparison into a test than can be applied automatically.  \n",
    "Remember that you need to allow for imperfect results due to floating point arithmetic."
   ]
  },
  {
   "cell_type": "code",
   "execution_count": 4,
   "metadata": {
    "ExecuteTime": {
     "end_time": "2019-01-22T01:21:44.114000-05:00",
     "start_time": "2019-01-22T06:21:36.701Z"
    }
   },
   "outputs": [
    {
     "data": {
      "text/plain": [
       "\u001b[32m\u001b[1mTest Passed\u001b[22m\u001b[39m"
      ]
     },
     "execution_count": 4,
     "metadata": {},
     "output_type": "execute_result"
    }
   ],
   "source": [
    "\n",
    "# INSERT CODE\n",
    "nrows = 4\n",
    "ncols = 8\n",
    "Random.seed!(42)\n",
    "test_in_A = rand(nrows,ncols)\n",
    "test_in_b = rand(ncols)\n",
    "@test all(multiply_matrix_vector_default(test_in_A,test_in_b) .≈ multiply_matrix_vector_cols_inner(test_in_A,test_in_b) )"
   ]
  },
  {
   "cell_type": "markdown",
   "metadata": {},
   "source": [
    "### Hand-coded, inner loop over rows\n",
    "Write a function `multiply_matrix_vector_rows_inner(A,b)`that takes a matrix A and a vector b and returns the product of A times b, but without using Julia's default linear algebra routines. You'll use two loops. For this part, let the inner loop run over the rows (i.e., first index) for A. "
   ]
  },
  {
   "cell_type": "code",
   "execution_count": 5,
   "metadata": {
    "ExecuteTime": {
     "end_time": "2019-01-22T01:21:44.163000-05:00",
     "start_time": "2019-01-22T06:21:36.704Z"
    }
   },
   "outputs": [
    {
     "data": {
      "text/plain": [
       "multiply_matrix_vector_rows_inner"
      ]
     },
     "execution_count": 5,
     "metadata": {},
     "output_type": "execute_result"
    }
   ],
   "source": [
    "# INSERT CODE\n",
    "\"Multiply matrix A and vector b by hand using columns for inner loop\"\n",
    "function multiply_matrix_vector_rows_inner(A::Matrix{T1}, b::Vector{T2})  where {T1<:Number, T2<:Number}\n",
    "    # INSERT CODE\n",
    "    # SOLUTION\n",
    "    @assert size(A,2) == size(b,1)\n",
    "    out = zeros( promote_type(eltype(A),eltype(b)), size(A,1) )\n",
    "    for j in 1:size(A,2)\n",
    "        for i in 1:size(A,1)\n",
    "            out[i] += A[i,j]*b[j]\n",
    "        end\n",
    "    end\n",
    "    return out\n",
    "end"
   ]
  },
  {
   "cell_type": "markdown",
   "metadata": {},
   "source": [
    "### Regession testing (2/2) \n",
    "Apply your regressions test to your newest function.  Did the tests work as intended?  Or do you need to make any modifications?"
   ]
  },
  {
   "cell_type": "code",
   "execution_count": 6,
   "metadata": {
    "ExecuteTime": {
     "end_time": "2019-01-22T01:21:44.182000-05:00",
     "start_time": "2019-01-22T06:21:36.706Z"
    }
   },
   "outputs": [
    {
     "data": {
      "text/plain": [
       "\u001b[32m\u001b[1mTest Passed\u001b[22m\u001b[39m"
      ]
     },
     "execution_count": 6,
     "metadata": {},
     "output_type": "execute_result"
    }
   ],
   "source": [
    "# INSERT CODE\n",
    "Random.seed!(42)\n",
    "test_in_A = rand(nrows,ncols)\n",
    "test_in_b = rand(ncols)\n",
    "@test all(multiply_matrix_vector_default(test_in_A,test_in_b) .≈ multiply_matrix_vector_rows_inner(test_in_A,test_in_b) )"
   ]
  },
  {
   "cell_type": "markdown",
   "metadata": {},
   "source": [
    "### Anticipate performance differences\n",
    "Before you benchmark these, think about how the different versions will perform. \n",
    "Which version of the function do you predict will perform best for large matrices? Why?\n",
    "\n",
    "INSERT RESPONSE \n",
    "\n",
    "Which version of the functions do you predict will perform best for small matrices? Why?\n",
    "\n",
    "INSERT RESPONSE\n",
    "\n",
    "### Benchmark as a function of problem size\n",
    "Benchmark each of these three functions for a wide range of matrix sizes, including at least one set of small matrices (e.g., 8x8) and one set of large matrices (e.g., 1024x1024 or larger).  Remember to make sure your functions have been compiled once before benchmarking.  You may also want to use the [BenchmarkTools.jl package](https://github.com/JuliaCI/BenchmarkTools.jl/)'s macros like `@btime` or `@benchmark`.  "
   ]
  },
  {
   "cell_type": "code",
   "execution_count": 7,
   "metadata": {
    "ExecuteTime": {
     "end_time": "2019-01-22T01:21:46.879000-05:00",
     "start_time": "2019-01-22T06:21:36.708Z"
    }
   },
   "outputs": [
    {
     "data": {
      "text/plain": [
       "BenchmarkTools.Trial: \n",
       "  memory estimate:  112 bytes\n",
       "  allocs estimate:  1\n",
       "  --------------\n",
       "  minimum time:     70.620 ns (0.00% GC)\n",
       "  median time:      75.549 ns (0.00% GC)\n",
       "  mean time:        91.717 ns (10.70% GC)\n",
       "  maximum time:     38.699 μs (99.73% GC)\n",
       "  --------------\n",
       "  samples:          10000\n",
       "  evals/sample:     968"
      ]
     },
     "execution_count": 7,
     "metadata": {},
     "output_type": "execute_result"
    }
   ],
   "source": [
    "# INSERT CODE\n",
    "nrows = 4\n",
    "ncols = 4\n",
    "Random.seed!(42)\n",
    "test_in_A = rand(nrows,ncols)\n",
    "test_in_b = rand(ncols)\n",
    "\n",
    "@benchmark multiply_matrix_vector_default(test_in_A,test_in_b) "
   ]
  },
  {
   "cell_type": "code",
   "execution_count": 8,
   "metadata": {
    "ExecuteTime": {
     "end_time": "2019-01-22T01:21:48.256000-05:00",
     "start_time": "2019-01-22T06:21:36.710Z"
    }
   },
   "outputs": [
    {
     "data": {
      "text/plain": [
       "BenchmarkTools.Trial: \n",
       "  memory estimate:  112 bytes\n",
       "  allocs estimate:  1\n",
       "  --------------\n",
       "  minimum time:     46.916 ns (0.00% GC)\n",
       "  median time:      49.647 ns (0.00% GC)\n",
       "  mean time:        63.986 ns (15.63% GC)\n",
       "  maximum time:     43.281 μs (99.83% GC)\n",
       "  --------------\n",
       "  samples:          10000\n",
       "  evals/sample:     983"
      ]
     },
     "execution_count": 8,
     "metadata": {},
     "output_type": "execute_result"
    }
   ],
   "source": [
    "@benchmark multiply_matrix_vector_cols_inner(test_in_A,test_in_b) "
   ]
  },
  {
   "cell_type": "code",
   "execution_count": 9,
   "metadata": {
    "ExecuteTime": {
     "end_time": "2019-01-22T01:21:49.580000-05:00",
     "start_time": "2019-01-22T06:21:36.713Z"
    }
   },
   "outputs": [
    {
     "data": {
      "text/plain": [
       "BenchmarkTools.Trial: \n",
       "  memory estimate:  112 bytes\n",
       "  allocs estimate:  1\n",
       "  --------------\n",
       "  minimum time:     49.047 ns (0.00% GC)\n",
       "  median time:      50.886 ns (0.00% GC)\n",
       "  mean time:        64.467 ns (14.58% GC)\n",
       "  maximum time:     39.712 μs (99.78% GC)\n",
       "  --------------\n",
       "  samples:          10000\n",
       "  evals/sample:     984"
      ]
     },
     "execution_count": 9,
     "metadata": {},
     "output_type": "execute_result"
    }
   ],
   "source": [
    "@benchmark multiply_matrix_vector_rows_inner(test_in_A,test_in_b) "
   ]
  },
  {
   "cell_type": "code",
   "execution_count": 10,
   "metadata": {
    "ExecuteTime": {
     "end_time": "2019-01-22T01:21:57.502000-05:00",
     "start_time": "2019-01-22T06:21:36.715Z"
    }
   },
   "outputs": [
    {
     "data": {
      "text/plain": [
       "BenchmarkTools.Trial: \n",
       "  memory estimate:  8.13 KiB\n",
       "  allocs estimate:  1\n",
       "  --------------\n",
       "  minimum time:     92.569 μs (0.00% GC)\n",
       "  median time:      169.764 μs (0.00% GC)\n",
       "  mean time:        212.631 μs (0.00% GC)\n",
       "  maximum time:     16.783 ms (0.00% GC)\n",
       "  --------------\n",
       "  samples:          10000\n",
       "  evals/sample:     1"
      ]
     },
     "execution_count": 10,
     "metadata": {},
     "output_type": "execute_result"
    }
   ],
   "source": [
    "# INSERT CODE\n",
    "nrows = 1024\n",
    "ncols = 1024\n",
    "test_in_A = rand(nrows,ncols)\n",
    "test_in_b = rand(ncols)\n",
    "\n",
    "@benchmark multiply_matrix_vector_default(test_in_A,test_in_b) "
   ]
  },
  {
   "cell_type": "code",
   "execution_count": 11,
   "metadata": {
    "ExecuteTime": {
     "end_time": "2019-01-22T01:22:08.095000-05:00",
     "start_time": "2019-01-22T06:21:36.717Z"
    }
   },
   "outputs": [
    {
     "data": {
      "text/plain": [
       "BenchmarkTools.Trial: \n",
       "  memory estimate:  8.13 KiB\n",
       "  allocs estimate:  1\n",
       "  --------------\n",
       "  minimum time:     4.457 ms (0.00% GC)\n",
       "  median time:      5.318 ms (0.00% GC)\n",
       "  mean time:        5.351 ms (0.00% GC)\n",
       "  maximum time:     8.844 ms (0.00% GC)\n",
       "  --------------\n",
       "  samples:          934\n",
       "  evals/sample:     1"
      ]
     },
     "execution_count": 11,
     "metadata": {},
     "output_type": "execute_result"
    }
   ],
   "source": [
    "@benchmark multiply_matrix_vector_cols_inner(test_in_A,test_in_b) "
   ]
  },
  {
   "cell_type": "code",
   "execution_count": 12,
   "metadata": {
    "ExecuteTime": {
     "end_time": "2019-01-22T01:22:18.791000-05:00",
     "start_time": "2019-01-22T06:21:36.720Z"
    }
   },
   "outputs": [
    {
     "data": {
      "text/plain": [
       "BenchmarkTools.Trial: \n",
       "  memory estimate:  8.13 KiB\n",
       "  allocs estimate:  1\n",
       "  --------------\n",
       "  minimum time:     845.327 μs (0.00% GC)\n",
       "  median time:      891.816 μs (0.00% GC)\n",
       "  mean time:        906.856 μs (0.00% GC)\n",
       "  maximum time:     2.157 ms (0.00% GC)\n",
       "  --------------\n",
       "  samples:          5442\n",
       "  evals/sample:     1"
      ]
     },
     "execution_count": 12,
     "metadata": {},
     "output_type": "execute_result"
    }
   ],
   "source": [
    "@benchmark multiply_matrix_vector_rows_inner(test_in_A,test_in_b) "
   ]
  },
  {
   "cell_type": "markdown",
   "metadata": {},
   "source": [
    "### Compare performance\n",
    "\n",
    "Compare the performance of the three functions. How do the results compare to your predictions? For any predictions that weren't accurate, try to explain the observed performance behavior.\n",
    "\n",
    "INSERT RESPONSE\n",
    "\n",
    "Are there any implications of this lesson for the data structures that you use for your project?"
   ]
  },
  {
   "cell_type": "code",
   "execution_count": null,
   "metadata": {},
   "outputs": [],
   "source": []
  }
 ],
 "metadata": {
  "kernelspec": {
   "display_name": "Julia 1.0.2",
   "language": "julia",
   "name": "julia-1.0"
  },
  "language_info": {
   "file_extension": ".jl",
   "mimetype": "application/julia",
   "name": "julia",
   "version": "1.0.2"
  },
  "toc": {
   "base_numbering": 1,
   "nav_menu": {},
   "number_sections": true,
   "sideBar": true,
   "skip_h1_title": false,
   "title_cell": "Table of Contents",
   "title_sidebar": "Contents",
   "toc_cell": false,
   "toc_position": {},
   "toc_section_display": true,
   "toc_window_display": false
  },
  "varInspector": {
   "cols": {
    "lenName": 16,
    "lenType": 16,
    "lenVar": 40
   },
   "kernels_config": {
    "python": {
     "delete_cmd_postfix": "",
     "delete_cmd_prefix": "del ",
     "library": "var_list.py",
     "varRefreshCmd": "print(var_dic_list())"
    },
    "r": {
     "delete_cmd_postfix": ") ",
     "delete_cmd_prefix": "rm(",
     "library": "var_list.r",
     "varRefreshCmd": "cat(var_dic_list()) "
    }
   },
   "types_to_exclude": [
    "module",
    "function",
    "builtin_function_or_method",
    "instance",
    "_Feature"
   ],
   "window_display": false
  }
 },
 "nbformat": 4,
 "nbformat_minor": 2
}
